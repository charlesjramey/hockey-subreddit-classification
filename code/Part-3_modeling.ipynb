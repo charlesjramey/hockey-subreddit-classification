{
 "cells": [
  {
   "cell_type": "markdown",
   "id": "a7a73bfa-6f77-4c06-a275-9ab8c592df19",
   "metadata": {},
   "source": [
    "# Project 3: Subreddit Classification with Pushshift API and NLP\n",
    "\n",
    "## Part III - Modeling\n",
    "\n",
    "Author: Charles Ramey\n",
    "\n",
    "Date: 04/02/2023\n",
    "\n",
    "---"
   ]
  },
  {
   "cell_type": "markdown",
   "id": "ef7969e0-f09a-4150-9895-4106f59694de",
   "metadata": {},
   "source": [
    "#### Notebook Links\n",
    "\n",
    "Part I - Project Intro & Data Cleaning\n",
    "- [`Part-1_setup-and-cleaning.ipynb`](../code/Part-1_setup-and-cleaning.ipynb)\n",
    "\n",
    "Part II - Exploratory Data Analysis (EDA)\n",
    "- [`Part-2_eda.ipynb`](../code/Part-2_eda.ipynb)\n",
    "\n",
    "Part IV - Conclusion, Recommendations, and Sources\n",
    "- [`Part-4_conclusion-and-recommendations.ipynb`](../code/Part-4_conclusion-and-recommendations.ipynb)"
   ]
  },
  {
   "cell_type": "markdown",
   "id": "0e1db3b3-860b-4947-ad16-04097ac5d4eb",
   "metadata": {},
   "source": [
    "### Contents\n",
    "\n",
    "- [Data Import and Preprocessing](#Data-Import-and-Cleaning)\n",
    "- [Modeling](#Modeling)"
   ]
  },
  {
   "cell_type": "markdown",
   "id": "fcc3a5b2-62c9-4972-a30f-198c8f48ad2c",
   "metadata": {},
   "source": [
    "### Library Imports"
   ]
  },
  {
   "cell_type": "code",
   "execution_count": 1,
   "id": "964855c1-528c-4270-8479-fa022f13211d",
   "metadata": {
    "tags": []
   },
   "outputs": [],
   "source": [
    "import numpy as np\n",
    "import pandas as pd\n",
    "\n",
    "from sklearn.feature_extraction.text import CountVectorizer\n",
    "\n",
    "from sklearn.model_selection import train_test_split, cross_val_predict, cross_val_score, GridSearchCV\n",
    "from sklearn.pipeline import Pipeline\n",
    "from sklearn.metrics import recall_score, precision_score, f1_score, ConfusionMatrixDisplay\n",
    "from sklearn.linear_model import LogisticRegression\n",
    "from sklearn.neighbors import KNeighborsClassifier\n",
    "from sklearn.naive_bayes import MultinomialNB\n",
    "from sklearn.tree import DecisionTreeClassifier\n",
    "from sklearn.ensemble import RandomForestClassifier, ExtraTreesClassifier, AdaBoostClassifier\n",
    "import xgboost as xg\n",
    "\n",
    "import warnings"
   ]
  },
  {
   "cell_type": "markdown",
   "id": "4eb4c1c2-54bc-48c9-8933-fb2f72f9f944",
   "metadata": {},
   "source": [
    "## Data Import and Preprocessing"
   ]
  },
  {
   "cell_type": "markdown",
   "id": "9995dd3b-f56d-4c9b-acbd-84bcc09f344d",
   "metadata": {},
   "source": [
    "### Data Import"
   ]
  },
  {
   "cell_type": "code",
   "execution_count": 2,
   "id": "c261b517-f769-4f49-9ceb-d4393372e39c",
   "metadata": {
    "tags": []
   },
   "outputs": [],
   "source": [
    "df = pd.read_csv('../data/data_to_split.csv')"
   ]
  },
  {
   "cell_type": "code",
   "execution_count": 3,
   "id": "fce345e7-fdcb-4f54-9339-a1a15579935c",
   "metadata": {
    "tags": []
   },
   "outputs": [
    {
     "data": {
      "text/plain": [
       "(  subreddit                                               text\n",
       " 0    hockey  Does anyone know Jordan Staals take on Pride j...\n",
       " 1    hockey  Elimination Clinching Scenarios Daily Free Tal...\n",
       " 2    hockey  Is McDavid s Contract Worth It I m guessing hi...,\n",
       "            subreddit                                               text\n",
       " 62900  hockeyplayers  CCM P VS Bauer Easton E I m coming off the X a...\n",
       " 62901  hockeyplayers  Got new skate forgot how to skate So I just go...\n",
       " 62902  hockeyplayers  Frustrated at my skill level Hey all I started...)"
      ]
     },
     "execution_count": 3,
     "metadata": {},
     "output_type": "execute_result"
    }
   ],
   "source": [
    "df.head(3), df.tail(3)"
   ]
  },
  {
   "cell_type": "markdown",
   "id": "e0bdeccc-caaf-4ad0-ac03-169ff88d2450",
   "metadata": {},
   "source": [
    "### Preprocessing"
   ]
  },
  {
   "cell_type": "markdown",
   "id": "c4b8ca8d-e211-444b-9a2a-b964c658d671",
   "metadata": {},
   "source": [
    "Our data is mostly ready to use to train a classification model, we just need to take a couple preprocessing steps. First we'll encode the target classes (subreddit names) as 0s and 1s since some of our classification algorithms are designed to work with binary labels. Then we'll define our features, X, and target variable, y, for ease of use rather than calling the specific columns from the main dataframe each time we want to reference these features."
   ]
  },
  {
   "cell_type": "code",
   "execution_count": 4,
   "id": "16297942-6348-45b2-9dd0-ec5f5c4ff50c",
   "metadata": {
    "tags": []
   },
   "outputs": [],
   "source": [
    "# Convert subreddit classes into binary labels\n",
    "df['subreddit'] = df['subreddit'].apply(lambda x: 0 if x == 'hockey' else 1)"
   ]
  },
  {
   "cell_type": "code",
   "execution_count": 5,
   "id": "dc31e0b1-9d2f-4a89-aa33-735a102aa309",
   "metadata": {
    "tags": []
   },
   "outputs": [],
   "source": [
    "# X will be text, since that is what we're training our model on\n",
    "# y will be the target we want to predict, 'subreddit'\n",
    "X = df['text']\n",
    "y = df['subreddit']"
   ]
  },
  {
   "cell_type": "markdown",
   "id": "fbcaeffc-8424-402f-b673-e775527fef06",
   "metadata": {},
   "source": [
    "#### Baseline Accuracy"
   ]
  },
  {
   "cell_type": "markdown",
   "id": "9686bf26-9345-4619-87b0-8b1e0afed110",
   "metadata": {},
   "source": [
    "To give ourselves something to compare our model performance to, let's define the baseline accuracy. The baseline accuracy represents the proportion of the majority class. In this case, r/hockey submissions make up approximately 51% of the dataset, so a random guess would correctly classify a submission 51% of the time."
   ]
  },
  {
   "cell_type": "code",
   "execution_count": 6,
   "id": "ce3a633e-b3ad-4e9c-8ae5-1fa92160f0ac",
   "metadata": {
    "tags": []
   },
   "outputs": [
    {
     "data": {
      "text/plain": [
       "0    0.511534\n",
       "1    0.488466\n",
       "Name: subreddit, dtype: float64"
      ]
     },
     "execution_count": 6,
     "metadata": {},
     "output_type": "execute_result"
    }
   ],
   "source": [
    "y.value_counts(normalize=True)"
   ]
  },
  {
   "cell_type": "markdown",
   "id": "e22e8e52-6b4a-46bf-84c9-7a9ecf2f7a2c",
   "metadata": {},
   "source": [
    "#### Train-Test-Split"
   ]
  },
  {
   "cell_type": "markdown",
   "id": "1dadbede-bffb-4b49-b628-7203f5e3ac60",
   "metadata": {},
   "source": [
    "We'll split our data into a set to train the models on and a set to test model performance on using a train-test-split. For this project, we're training our models on 75% of the total available data. This comes out to just over 47,000 submissions randomly selected from both subreddits."
   ]
  },
  {
   "cell_type": "code",
   "execution_count": 7,
   "id": "4026cedc-4d5d-4f5d-820a-04bede85552f",
   "metadata": {
    "tags": []
   },
   "outputs": [],
   "source": [
    "X_train, X_test, y_train, y_test = train_test_split(\n",
    "    X, y, test_size = 0.25, stratify=y, random_state=42)"
   ]
  },
  {
   "cell_type": "code",
   "execution_count": 8,
   "id": "42c30d7d-4b9f-4e5e-bb9f-abfa2584f7f9",
   "metadata": {
    "tags": []
   },
   "outputs": [
    {
     "data": {
      "text/plain": [
       "((47177,), (47177,), (15726,), (15726,))"
      ]
     },
     "execution_count": 8,
     "metadata": {},
     "output_type": "execute_result"
    }
   ],
   "source": [
    "X_train.shape, y_train.shape, X_test.shape, y_test.shape"
   ]
  },
  {
   "cell_type": "markdown",
   "id": "97e8d7b3-58ec-4511-8faf-86f4a2c433a8",
   "metadata": {
    "tags": []
   },
   "source": [
    "---\n",
    "## Modeling"
   ]
  },
  {
   "cell_type": "markdown",
   "id": "eda3e9a3-1517-49a0-b804-f3c0010ef54a",
   "metadata": {},
   "source": [
    "In order for the models to work, the data needs to be count vectorized once more, so we'll refernce the stop words that were previously defined so that the models are not skewed by these common terms."
   ]
  },
  {
   "cell_type": "code",
   "execution_count": 9,
   "id": "3f51c205-c09c-457f-b2e6-ee3c6496f438",
   "metadata": {
    "tags": []
   },
   "outputs": [],
   "source": [
    "stopwords = ['the','to','and','http','www','com','in','com','of','for','it','subreddit',\n",
    "            'is','on','with','that','at','this','have','but','be','en', 'pm','nd','st',\n",
    "            'rd', 'if','are','so','can','from','id', 'hlslive', 'wsczoominwestus','wa',\n",
    "            'jpg','pjpg','format','webp','png','doc','google','form', 's', 'link', 've']"
   ]
  },
  {
   "cell_type": "markdown",
   "id": "90065d5b-043c-4cd0-abb8-f096f29eddb5",
   "metadata": {},
   "source": [
    "#### Models to Test"
   ]
  },
  {
   "cell_type": "markdown",
   "id": "ccd6ffc0-5ecb-4b35-ac59-cb88cea026f0",
   "metadata": {},
   "source": [
    "Below are listed all of the classification machine learning models that will be tested to identify the model that achieves the greatest accuracy while also generalizing to the test data."
   ]
  },
  {
   "cell_type": "code",
   "execution_count": 28,
   "id": "7d3ff524-9495-4b65-bb55-ebac67d72cdc",
   "metadata": {
    "tags": []
   },
   "outputs": [],
   "source": [
    "# Instantiation of models to test\n",
    "\n",
    "# Logisitic Regression\n",
    "logr = LogisticRegression(max_iter=10_00)\n",
    "\n",
    "# Multinomial Naive Bayes\n",
    "mnb = MultinomialNB()\n",
    "\n",
    "# Decision Tree Classifier\n",
    "dt = DecisionTreeClassifier()\n",
    "\n",
    "# Random Forest Classifier\n",
    "rf = RandomForestClassifier()\n",
    "\n",
    "# Extra Trees Classifier\n",
    "et = ExtraTreesClassifier()\n",
    "\n",
    "# Adaptive Boost Classifier\n",
    "ada = AdaBoostClassifier()\n",
    "\n",
    "# Extreme Gradient Boost Classifier\n",
    "xgb = xg.XGBClassifier()"
   ]
  },
  {
   "cell_type": "markdown",
   "id": "a8f1209a-9a81-4352-80e3-a507a7958227",
   "metadata": {},
   "source": [
    "In the cell below, we define the different hyperparamets that we want to test for each model. These will be referenced when we instantiate a grid search over the parameters for each model."
   ]
  },
  {
   "cell_type": "code",
   "execution_count": 11,
   "id": "ddd4e1b9-dd59-425e-9cae-50704eb2fde0",
   "metadata": {},
   "outputs": [],
   "source": [
    "logr_params = {\n",
    "    'cvec__max_features': [500, 1000],\n",
    "    'cvec__min_df': [2,3],\n",
    "    'cvec__max_df': [0.95],\n",
    "    'cvec__ngram_range': [(1,2),(1,3)],\n",
    "    'logr__C': [0.1,0.5]}\n",
    "\n",
    "mnb_params = {\n",
    "    'cvec__max_features': [500, 1000],\n",
    "    'cvec__min_df': [2,3],\n",
    "    'cvec__max_df': [0.95],\n",
    "    'cvec__ngram_range': [(1,2), (1,3)]}\n",
    "\n",
    "dt_params = {\n",
    "    'cvec__max_features': [500,1000],\n",
    "    'cvec__min_df': [2,3],\n",
    "    'cvec__max_df': [0.95],\n",
    "    'cvec__ngram_range': [(1,2),(1,3)],\n",
    "    'dt__max_depth': [3,5],\n",
    "    'dt__min_samples_split': [2,5,10]}\n",
    "\n",
    "rf_params = {\n",
    "    'cvec__max_features': [500,1000],\n",
    "    'cvec__min_df': [2,3],\n",
    "    'cvec__max_df': [0.95],\n",
    "    'cvec__ngram_range': [(1,2),(1,3)],\n",
    "    'rf__max_depth': [3,5],\n",
    "    'rf__min_samples_split': [2,5,10]}\n",
    "    \n",
    "et_params = {\n",
    "    'cvec__max_features': [500,1000],\n",
    "    'cvec__min_df': [2,3],\n",
    "    'cvec__max_df': [0.95],\n",
    "    'cvec__ngram_range': [(1,2),(1,3)],\n",
    "    'et__n_estimators': [50,100],\n",
    "    'et__max_depth': [3,5],\n",
    "    'et__min_samples_split': [2,5,10]}\n",
    "\n",
    "ada_params = {\n",
    "    'cvec__max_features': [500,1000],\n",
    "    'cvec__min_df': [2,3],\n",
    "    'cvec__max_df': [0.95],\n",
    "    'cvec__ngram_range': [(1,2),(1,3)],\n",
    "    'ada__n_estimators': [50,100],\n",
    "    'ada__learning_rate': [0.3,0.6]}\n",
    "\n",
    "xgb_params = {\n",
    "    'cvec__max_features': [500,1000],\n",
    "    'cvec__min_df': [2,3],\n",
    "    'cvec__max_df': [0.95],\n",
    "    'cvec__ngram_range': [(1,2),(1,3)],\n",
    "    'xgb__n_estimators': [50,100],\n",
    "    'xgb__learning_rate': [0.3,0.6]}"
   ]
  },
  {
   "cell_type": "markdown",
   "id": "82d16211-74e0-448a-bb1c-06d18ad65de3",
   "metadata": {},
   "source": [
    "Here we define a function that will take all of the necessary inputs to define a pipeline with each estimator, instantiate a grid search for the best parameters, fit the best parameters to a model, and score the model's performance on the test data."
   ]
  },
  {
   "cell_type": "code",
   "execution_count": 12,
   "id": "07f3071b-a708-477a-b2d0-c645ddbfc4df",
   "metadata": {
    "tags": []
   },
   "outputs": [],
   "source": [
    "'''\n",
    "Code adapted from Devin Faye, General Assembly\n",
    "'''\n",
    "def evaluation(X_train, y_train, X_test, y_test, model, model_name:str,\n",
    "               model_params, scores_df=None):\n",
    "    # If this is the first call of this function and a previous dataframe of scores\n",
    "    # is not passed in the parameters, define a new dataframe to store model metrics\n",
    "    if scores_df is None:\n",
    "        scores_df = pd.DataFrame(columns = ['base_acc', 'train_acc', 'test_acc',\n",
    "                                            'recall', 'precision', 'f1_score'])\n",
    "    # instantiate a list to store the best parameters for the model\n",
    "    # param_list = []\n",
    "    # create a pipeline that will count vectorize the data and feed it into the selected model\n",
    "    pipe = Pipeline([\n",
    "        ('cvec', CountVectorizer()),\n",
    "        (model_name, model)])\n",
    "    # instantiate a grid search to pass the pipeline into with hyperparameters to search over\n",
    "    gs = GridSearchCV(\n",
    "        pipe,\n",
    "        model_params,\n",
    "        cv = 5, n_jobs=-1)\n",
    "    # fit the model to the training data\n",
    "    gs.fit(X_train, y_train)\n",
    "    # generate a confusion matrix to visualize the model's performance\n",
    "    ConfusionMatrixDisplay.from_estimator(gs, X_test, y_test, cmap='Blues', normalize='true')\n",
    "    # append the b\n",
    "    # param_list.append(gs.best_params_)\n",
    "    # print out the best hyperparameters for this model\n",
    "    print(f\"The best parameters for the {model_name} model are: {gs.best_params_}\")\n",
    "    \n",
    "    # store the model's predicted values\n",
    "    preds = gs.predict(X_test)\n",
    "    \n",
    "    # score the model using several metrics, baseline accuracy is included as a reference point\n",
    "    base_acc = round(y.value_counts(normalize=True).max(), 2)\n",
    "    train_acc = round(gs.score(X_train, y_train), 2)\n",
    "    test_acc = round(gs.score(X_test, y_test), 2)\n",
    "    rec = round(recall_score(y_test, preds), 2)\n",
    "    prec = round(precision_score(y_test, preds), 2)\n",
    "    fone = round(f1_score(y_test, preds), 2)\n",
    "    \n",
    "    # store the scores in the dataframe\n",
    "    scores_df.loc[model_name,:] = [base_acc, train_acc, test_acc, rec, prec, fone]\n",
    "    # make sure the scores are being stored as a dataframe\n",
    "    scores_df = pd.DataFrame(scores_df)\n",
    "    \n",
    "    print('')\n",
    "    print(scores_df)\n",
    "    \n",
    "    return scores_df"
   ]
  },
  {
   "attachments": {
    "69e357af-0dab-4aed-8f91-35ee33a9b202.jpg": {
     "image/jpeg": "[encoded data removed]"
    }
   },
   "cell_type": "markdown",
   "id": "80b89fd7-93e4-4d2c-aa7f-8a9a0845150b",
   "metadata": {},
   "source": [
    "In the following cells, the function above is applied using the selected classification models listed above and the resulting scores are added to a dataframe the entirety of which is available after the final model is tested. A confusion matrix is used to interpret the results of each model. To aid with understanding the each confusion matrix, see the diagram below ([*source*](https://subscription.packtpub.com/book/big-data-and-business-intelligence/9781838555078/6/ch06lvl1sec34/confusion-matrix)).\n",
    "![confusion-matrix.jpg](attachment:69e357af-0dab-4aed-8f91-35ee33a9b202.jpg)\n",
    "- **True Negative (TN)**: Classified as r/hockey, actually r/hockey\n",
    "- **False Negative (FN)**: Classified as r/hockey, actually r/hockeyplayers\n",
    "- **True Positive (TP)**: Classified as r/hockeyplayers, actually r/hockeyplayers\n",
    "- **False Positive (FP)**: Classified as r/hockeyplayers, actually r/hockey\n",
    "\n",
    "A breif explanation of the different reported metrics used to evaluate the models:\n",
    "- **Training Accuracy (train_acc)**: Fraction of training submissions classified as the correct subreddit\n",
    "- **Test Accuracy (test_acc)**: Fraction of test submissions classified as the correct subreddit\n",
    "- **Recall (sensitivity)**: Proportion of actual positive cases correctly classified as positive (TP / TP+FN)\n",
    "- **Precision**: Proportion of positive classifications that are actually positive (TP / TP+FP)\n",
    "- **F1 Score**: Balance between precision and recall (2 * (prec*recall) / (prec + recall))"
   ]
  },
  {
   "cell_type": "markdown",
   "id": "6acc3dfe-52f9-4837-ad70-858332c1ceec",
   "metadata": {},
   "source": [
    "**Logistic Regression**"
   ]
  },
  {
   "cell_type": "code",
   "execution_count": 13,
   "id": "cea48423-8c52-4779-8ff8-57fbc6317f63",
   "metadata": {
    "tags": []
   },
   "outputs": [
    {
     "name": "stdout",
     "output_type": "stream",
     "text": [
      "The best parameters for the logr model are: {'cvec__max_df': 0.95, 'cvec__max_features': 1000, 'cvec__min_df': 2, 'cvec__ngram_range': (1, 2), 'logr__C': 0.5}\n",
      "\n",
      "     base_acc train_acc test_acc recall precision f1_score\n",
      "logr     0.51      0.96     0.95   0.95      0.95     0.95\n"
     ]
    },
    {
     "data": {
      "image/png": "[encoded data removed]",
      "text/plain": [
       "<Figure size 640x480 with 2 Axes>"
      ]
     },
     "metadata": {},
     "output_type": "display_data"
    }
   ],
   "source": [
    "scores = evaluation(X_train, y_train, X_test, y_test, logr, 'logr',\n",
    "                    logr_params)"
   ]
  },
  {
   "cell_type": "markdown",
   "id": "bad7a547-c233-47ef-a001-fab164084a27",
   "metadata": {},
   "source": [
    "Right off the bat, the Logistic Regression model performed extremely well, scoring over 0.95 on each of the five chosen metrics. Scores of 0.96 on the training data and 0.95 on the test data indicate that the model is low-bias, and low-variance. We will seek to improve on these scores and eliminate the difference between them with additional models, but these results are considered a success and this would work as an acceptable standalone model. From the confusion matrix, we can also see that the model also performed equally well when classifying submissions belonging to r/hockey and those belonging to r/hockeyplayers."
   ]
  },
  {
   "cell_type": "markdown",
   "id": "2c446bc5-d3df-4dae-b73d-072e5d100ccf",
   "metadata": {},
   "source": [
    "**Multinomial Naive Bayes**"
   ]
  },
  {
   "cell_type": "code",
   "execution_count": 14,
   "id": "dd8839eb-fa99-40f5-8553-82a3ec1d08c7",
   "metadata": {
    "tags": []
   },
   "outputs": [
    {
     "name": "stdout",
     "output_type": "stream",
     "text": [
      "The best parameters for the mnb model are: {'cvec__max_df': 0.95, 'cvec__max_features': 1000, 'cvec__min_df': 2, 'cvec__ngram_range': (1, 2)}\n",
      "\n",
      "     base_acc train_acc test_acc recall precision f1_score\n",
      "logr     0.51      0.96     0.95   0.95      0.95     0.95\n",
      "mnb      0.51      0.78     0.77   0.99      0.69     0.81\n"
     ]
    },
    {
     "data": {
      "image/png": "[encoded data removed]",
      "text/plain": [
       "<Figure size 640x480 with 2 Axes>"
      ]
     },
     "metadata": {},
     "output_type": "display_data"
    }
   ],
   "source": [
    "scores = evaluation(X_train, y_train, X_test, y_test, mnb, 'mnb',\n",
    "                    mnb_params, scores_df=scores)"
   ]
  },
  {
   "cell_type": "markdown",
   "id": "febf344a-ca7f-4922-a6f8-454eef774541",
   "metadata": {},
   "source": [
    "The Naive Bayes model exhibits a marked decrease in performance relative to the Logisitc Regression model. The model is still better than the baseline accuracy, low-variance, and generalizes well from the training data to the test data, however the model is high-bias and does not perform especially well in general. The confusion matrix tells us that the model is much better at classifying submissions that belong to r/hockeyplayers, but is hardly better than the baseline model when classifying submissions that belong to r/hockey. It's difficult to determine why this might be the case, but it's worth noting."
   ]
  },
  {
   "cell_type": "markdown",
   "id": "088e13d6-5752-46e4-8786-76eeefe000b5",
   "metadata": {},
   "source": [
    "**Decision Trees Classifier**"
   ]
  },
  {
   "cell_type": "code",
   "execution_count": 15,
   "id": "62a03e2d-471a-4fb4-930d-02bd524bf457",
   "metadata": {},
   "outputs": [
    {
     "name": "stdout",
     "output_type": "stream",
     "text": [
      "The best parameters for the dt model are: {'cvec__max_df': 0.95, 'cvec__max_features': 500, 'cvec__min_df': 3, 'cvec__ngram_range': (1, 3), 'dt__max_depth': 5, 'dt__min_samples_split': 2}\n",
      "\n",
      "     base_acc train_acc test_acc recall precision f1_score\n",
      "logr     0.51      0.96     0.95   0.95      0.95     0.95\n",
      "mnb      0.51      0.78     0.77   0.99      0.69     0.81\n",
      "dt       0.51      0.86     0.86   0.78      0.91     0.84\n"
     ]
    },
    {
     "data": {
      "image/png": "[encoded data removed]",
      "text/plain": [
       "<Figure size 640x480 with 2 Axes>"
      ]
     },
     "metadata": {},
     "output_type": "display_data"
    }
   ],
   "source": [
    "scores = evaluation(X_train, y_train, X_test, y_test, dt, 'dt',\n",
    "                    dt_params, scores_df=scores)"
   ]
  },
  {
   "cell_type": "markdown",
   "id": "383d7167-94a1-4fae-8a34-da18f6f5abab",
   "metadata": {},
   "source": [
    "The Decision Tree model scores better than the Naive Bayes models, but still not as well as the Logistic Regression model. Unlike the Naive Bayes model, this model's strength is in classifying submissions that belong to r/hockey, and performs worse than both prior models when classifying submissions that belong to r/hockeyplayers. With equal scores on both the training and test data, this model does generalize to new data the best so far."
   ]
  },
  {
   "cell_type": "markdown",
   "id": "8b6d0afb-8765-4b39-bd8c-a54bc4403049",
   "metadata": {},
   "source": [
    "**Random Forest Classifier**"
   ]
  },
  {
   "cell_type": "code",
   "execution_count": 16,
   "id": "0f192b58-9416-4e55-9d83-6330c75e1aaf",
   "metadata": {
    "tags": []
   },
   "outputs": [
    {
     "name": "stdout",
     "output_type": "stream",
     "text": [
      "The best parameters for the rf model are: {'cvec__max_df': 0.95, 'cvec__max_features': 500, 'cvec__min_df': 3, 'cvec__ngram_range': (1, 3), 'rf__max_depth': 5, 'rf__min_samples_split': 5}\n",
      "\n",
      "     base_acc train_acc test_acc recall precision f1_score\n",
      "logr     0.51      0.96     0.95   0.95      0.95     0.95\n",
      "mnb      0.51      0.78     0.77   0.99      0.69     0.81\n",
      "dt       0.51      0.86     0.86   0.78      0.91     0.84\n",
      "rf       0.51      0.89     0.89   0.95      0.85      0.9\n"
     ]
    },
    {
     "data": {
      "image/png": "[encoded data removed]",
      "text/plain": [
       "<Figure size 640x480 with 2 Axes>"
      ]
     },
     "metadata": {},
     "output_type": "display_data"
    }
   ],
   "source": [
    "scores = evaluation(X_train, y_train, X_test, y_test, rf, 'rf',\n",
    "                    rf_params, scores_df=scores)"
   ]
  },
  {
   "cell_type": "markdown",
   "id": "6822cc9e-0f80-4ca3-a05a-351b0dee2df0",
   "metadata": {},
   "source": [
    "The Random Forest model is an expected improvement on the Decision Tree model because it combines the predictions of multiple decision trees to achieve better performance. The model retains the ultra low-variance of the Decision Tree model while correctly classifying more submissions in both the training and test data. The model is preferential to submissions belonging to r/hockeyplayers, with a tendency to classify submissions as r/hockeyplayers despite belonging to r/hockey."
   ]
  },
  {
   "cell_type": "markdown",
   "id": "61416e1f-36d4-4da7-b38a-42705cf2b7be",
   "metadata": {},
   "source": [
    "**Extra Trees Classifier**"
   ]
  },
  {
   "cell_type": "code",
   "execution_count": 17,
   "id": "7d7d3187-f2bd-4c84-a5c2-f4c5ebe07f81",
   "metadata": {
    "tags": []
   },
   "outputs": [
    {
     "name": "stdout",
     "output_type": "stream",
     "text": [
      "The best parameters for the et model are: {'cvec__max_df': 0.95, 'cvec__max_features': 1000, 'cvec__min_df': 2, 'cvec__ngram_range': (1, 2), 'et__max_depth': 5, 'et__min_samples_split': 10, 'et__n_estimators': 50}\n",
      "\n",
      "     base_acc train_acc test_acc recall precision f1_score\n",
      "logr     0.51      0.96     0.95   0.95      0.95     0.95\n",
      "mnb      0.51      0.78     0.77   0.99      0.69     0.81\n",
      "dt       0.51      0.86     0.86   0.78      0.91     0.84\n",
      "rf       0.51      0.89     0.89   0.95      0.85      0.9\n",
      "et       0.51      0.68     0.67    1.0       0.6     0.75\n"
     ]
    },
    {
     "data": {
      "image/png": "[encoded data removed]",
      "text/plain": [
       "<Figure size 640x480 with 2 Axes>"
      ]
     },
     "metadata": {},
     "output_type": "display_data"
    }
   ],
   "source": [
    "scores = evaluation(X_train, y_train, X_test, y_test, et, 'et',\n",
    "                    et_params, scores_df=scores)"
   ]
  },
  {
   "cell_type": "markdown",
   "id": "1355dd2f-f555-4c0e-85f4-cdd99ba11a03",
   "metadata": {},
   "source": [
    "The Extra Trees model adds complexity and additional sampling randomness at each tree split, but the performance suffers in this case. The worst performing model thus far, the Extra Trees model remains low-variance but incorrectly classifies many more submissions than the previous models. This model is also highly biases towards r/hockeyplayers, classifying a lot of r/hockey submissions as belonging to r/hockeyplayers. For this particular use case, HFE does not benefit by biasing towards one subreddit or the other, as any misclassifications hinder the company's ability to accurately tune their marketing strategy."
   ]
  },
  {
   "cell_type": "markdown",
   "id": "e93dda1f-2d23-4238-9b6f-2f8e36ad96ed",
   "metadata": {},
   "source": [
    "**Adaptive Boost Classifier**"
   ]
  },
  {
   "cell_type": "code",
   "execution_count": 18,
   "id": "07d7eb9a-74ed-4c92-875b-a5b9c425df7e",
   "metadata": {
    "tags": []
   },
   "outputs": [
    {
     "name": "stdout",
     "output_type": "stream",
     "text": [
      "The best parameters for the ada model are: {'ada__learning_rate': 0.6, 'ada__n_estimators': 100, 'cvec__max_df': 0.95, 'cvec__max_features': 1000, 'cvec__min_df': 2, 'cvec__ngram_range': (1, 2)}\n",
      "\n",
      "     base_acc train_acc test_acc recall precision f1_score\n",
      "logr     0.51      0.96     0.95   0.95      0.95     0.95\n",
      "mnb      0.51      0.78     0.77   0.99      0.69     0.81\n",
      "dt       0.51      0.86     0.86   0.78      0.91     0.84\n",
      "rf       0.51      0.89     0.89   0.95      0.85      0.9\n",
      "et       0.51      0.68     0.67    1.0       0.6     0.75\n",
      "ada      0.51      0.94     0.94   0.93      0.94     0.94\n"
     ]
    },
    {
     "data": {
      "image/png": "[encoded data removed]",
      "text/plain": [
       "<Figure size 640x480 with 2 Axes>"
      ]
     },
     "metadata": {},
     "output_type": "display_data"
    }
   ],
   "source": [
    "scores = evaluation(X_train, y_train, X_test, y_test, ada, 'ada',\n",
    "                    ada_params, scores_df=scores)"
   ]
  },
  {
   "cell_type": "markdown",
   "id": "051cf28e-468c-496b-801b-d79d6cbd0e4f",
   "metadata": {},
   "source": [
    "The AdaBoost model doesn't perform quite as well as the Logistic Regression model, but improves upon all of the other models. This model, which works by training intentionally weak models and then learning from their mistakes, could be preferential to the Logistic Regression model due to its high accuracy combined with a complete reduction of variance. We will seek to improve on both the Logisitc Regression model and AdaBoost model with the final model."
   ]
  },
  {
   "cell_type": "markdown",
   "id": "e12fb9aa-7802-4ec0-ada8-33c03c73d4e1",
   "metadata": {},
   "source": [
    "**Extreme Gradient Boost Classifier**"
   ]
  },
  {
   "cell_type": "code",
   "execution_count": 19,
   "id": "fc76646c-60b1-444a-b991-4a09b646e070",
   "metadata": {
    "tags": []
   },
   "outputs": [
    {
     "name": "stdout",
     "output_type": "stream",
     "text": [
      "The best parameters for the xgb model are: {'cvec__max_df': 0.95, 'cvec__max_features': 1000, 'cvec__min_df': 2, 'cvec__ngram_range': (1, 2), 'xgb__learning_rate': 0.3, 'xgb__n_estimators': 100}\n",
      "\n",
      "     base_acc train_acc test_acc recall precision f1_score\n",
      "logr     0.51      0.96     0.95   0.95      0.95     0.95\n",
      "mnb      0.51      0.78     0.77   0.99      0.69     0.81\n",
      "dt       0.51      0.86     0.86   0.78      0.91     0.84\n",
      "rf       0.51      0.89     0.89   0.95      0.85      0.9\n",
      "et       0.51      0.68     0.67    1.0       0.6     0.75\n",
      "ada      0.51      0.94     0.94   0.93      0.94     0.94\n",
      "xgb      0.51      0.97     0.95   0.95      0.95     0.95\n"
     ]
    },
    {
     "data": {
      "image/png": "[encoded data removed]",
      "text/plain": [
       "<Figure size 640x480 with 2 Axes>"
      ]
     },
     "metadata": {},
     "output_type": "display_data"
    }
   ],
   "source": [
    "scores = evaluation(X_train, y_train, X_test, y_test, xgb, 'xgb',\n",
    "                    xgb_params, scores_df=scores)"
   ]
  },
  {
   "cell_type": "markdown",
   "id": "39dd6991-f7b0-49d2-ac7e-79de28f09a65",
   "metadata": {},
   "source": [
    "While the XGBoost model has the best accuracy among all models on both the training and test data, it has the largest variance of all tested models. In order to have the most confidence in the company's model, a primary goal is to retain low variance.\n",
    "\n",
    "We could choose to select and use either the Logistic Regression or AdaBoost model at this point, however we'll test one more option for creating the best possible model. In the cells below, we stack all of the models using the bets hyperparameters for each. By stacking, we can train one of our best models on the predictions of all other models in an attempt to learn from the successes and failures of each model. Thus we will generate predictions with each model, then retrain the Logistic Regression model on the predictions and evaluate the results."
   ]
  },
  {
   "cell_type": "code",
   "execution_count": 20,
   "id": "a7292402-c438-4968-9416-d1df88f5de73",
   "metadata": {
    "tags": []
   },
   "outputs": [],
   "source": [
    "logr_pipe = Pipeline([\n",
    "    ('cvec', CountVectorizer(\n",
    "        max_features=1000,\n",
    "        min_df=3,\n",
    "        max_df=0.95,\n",
    "        ngram_range=(1,2))),\n",
    "    ('logr', LogisticRegression(\n",
    "        max_iter=10_000,\n",
    "        C=0.1))])\n",
    "\n",
    "mnb_pipe = Pipeline([\n",
    "    ('cvec', CountVectorizer(\n",
    "        max_features=1000,\n",
    "        min_df=3,\n",
    "        max_df=0.95,\n",
    "        ngram_range=(1,2))),\n",
    "    ('mnb', MultinomialNB())])\n",
    "\n",
    "dt_pipe = Pipeline([\n",
    "    ('cvec', CountVectorizer(\n",
    "        max_features=1000,\n",
    "        min_df=3,\n",
    "        max_df=0.95,\n",
    "        ngram_range=(1,2))),\n",
    "    ('dt', DecisionTreeClassifier(\n",
    "        max_depth=5,\n",
    "        min_samples_split=2))])\n",
    "\n",
    "rf_pipe = Pipeline([\n",
    "    ('cvec', CountVectorizer(\n",
    "        max_features=500,\n",
    "        min_df=2,\n",
    "        max_df=0.95,\n",
    "        ngram_range=(1,2))),\n",
    "    ('rf', RandomForestClassifier(\n",
    "        max_depth=5,\n",
    "        min_samples_split=2))])\n",
    "\n",
    "et_pipe = Pipeline([\n",
    "    ('cvec', CountVectorizer(\n",
    "        max_features=1000,\n",
    "        min_df=3,\n",
    "        max_df=0.95,\n",
    "        ngram_range=(1,2))),\n",
    "    ('et', ExtraTreesClassifier(\n",
    "        max_depth=5,\n",
    "        min_samples_split=2,\n",
    "        n_estimators=50))])\n",
    "\n",
    "ada_pipe = Pipeline([\n",
    "    ('cvec', CountVectorizer(\n",
    "        max_features=1000,\n",
    "        min_df=2,\n",
    "        max_df=0.95,\n",
    "        ngram_range=(1,2))),\n",
    "    ('ada', AdaBoostClassifier(\n",
    "        n_estimators=100,\n",
    "        learning_rate=0.6))])\n",
    "    \n",
    "xgb_pipe = Pipeline([\n",
    "    ('cvec', CountVectorizer(\n",
    "        max_features=1000,\n",
    "        min_df=2,\n",
    "        max_df=0.95,\n",
    "        ngram_range=(1,2))),\n",
    "    ('xgb', xg.XGBClassifier(\n",
    "        n_estimators=100,\n",
    "        learning_rate=0.3))])"
   ]
  },
  {
   "cell_type": "code",
   "execution_count": 21,
   "id": "e5be5712-8b57-45c1-bd38-52c72fca5c18",
   "metadata": {
    "tags": []
   },
   "outputs": [],
   "source": [
    "X_pred_train = pd.DataFrame()\n",
    "X_pred_train['logr'] = cross_val_predict(logr_pipe, X_train, y_train)\n",
    "X_pred_train['mnb'] = cross_val_predict(mnb_pipe, X_train, y_train)\n",
    "X_pred_train['dt'] = cross_val_predict(dt_pipe, X_train, y_train)\n",
    "X_pred_train['rf'] = cross_val_predict(rf_pipe, X_train, y_train)\n",
    "X_pred_train['et'] = cross_val_predict(et_pipe, X_train, y_train)\n",
    "X_pred_train['ada'] = cross_val_predict(ada_pipe, X_train, y_train)\n",
    "X_pred_train['xgb'] = cross_val_predict(xgb_pipe, X_train, y_train)"
   ]
  },
  {
   "cell_type": "code",
   "execution_count": 22,
   "id": "cfe17600-5d97-4410-a985-17494f278bb1",
   "metadata": {
    "tags": []
   },
   "outputs": [
    {
     "data": {
      "text/html": [
       "<div>\n",
       "<style scoped>\n",
       "    .dataframe tbody tr th:only-of-type {\n",
       "        vertical-align: middle;\n",
       "    }\n",
       "\n",
       "    .dataframe tbody tr th {\n",
       "        vertical-align: top;\n",
       "    }\n",
       "\n",
       "    .dataframe thead th {\n",
       "        text-align: right;\n",
       "    }\n",
       "</style>\n",
       "<table border=\"1\" class=\"dataframe\">\n",
       "  <thead>\n",
       "    <tr style=\"text-align: right;\">\n",
       "      <th></th>\n",
       "      <th>logr</th>\n",
       "      <th>mnb</th>\n",
       "      <th>dt</th>\n",
       "      <th>rf</th>\n",
       "      <th>et</th>\n",
       "      <th>ada</th>\n",
       "      <th>xgb</th>\n",
       "    </tr>\n",
       "  </thead>\n",
       "  <tbody>\n",
       "    <tr>\n",
       "      <th>0</th>\n",
       "      <td>1</td>\n",
       "      <td>1</td>\n",
       "      <td>1</td>\n",
       "      <td>1</td>\n",
       "      <td>1</td>\n",
       "      <td>1</td>\n",
       "      <td>1</td>\n",
       "    </tr>\n",
       "    <tr>\n",
       "      <th>1</th>\n",
       "      <td>0</td>\n",
       "      <td>0</td>\n",
       "      <td>0</td>\n",
       "      <td>0</td>\n",
       "      <td>1</td>\n",
       "      <td>0</td>\n",
       "      <td>0</td>\n",
       "    </tr>\n",
       "    <tr>\n",
       "      <th>2</th>\n",
       "      <td>0</td>\n",
       "      <td>1</td>\n",
       "      <td>0</td>\n",
       "      <td>0</td>\n",
       "      <td>1</td>\n",
       "      <td>0</td>\n",
       "      <td>0</td>\n",
       "    </tr>\n",
       "    <tr>\n",
       "      <th>3</th>\n",
       "      <td>0</td>\n",
       "      <td>0</td>\n",
       "      <td>0</td>\n",
       "      <td>0</td>\n",
       "      <td>0</td>\n",
       "      <td>0</td>\n",
       "      <td>0</td>\n",
       "    </tr>\n",
       "    <tr>\n",
       "      <th>4</th>\n",
       "      <td>1</td>\n",
       "      <td>1</td>\n",
       "      <td>1</td>\n",
       "      <td>1</td>\n",
       "      <td>1</td>\n",
       "      <td>1</td>\n",
       "      <td>1</td>\n",
       "    </tr>\n",
       "  </tbody>\n",
       "</table>\n",
       "</div>"
      ],
      "text/plain": [
       "   logr  mnb  dt  rf  et  ada  xgb\n",
       "0     1    1   1   1   1    1    1\n",
       "1     0    0   0   0   1    0    0\n",
       "2     0    1   0   0   1    0    0\n",
       "3     0    0   0   0   0    0    0\n",
       "4     1    1   1   1   1    1    1"
      ]
     },
     "execution_count": 22,
     "metadata": {},
     "output_type": "execute_result"
    }
   ],
   "source": [
    "X_pred_train.head()"
   ]
  },
  {
   "cell_type": "code",
   "execution_count": 23,
   "id": "bbca1a8b-8437-433d-a8ab-b1a1ca6b1680",
   "metadata": {
    "tags": []
   },
   "outputs": [],
   "source": [
    "logr_pipe.fit(X_train, y_train)\n",
    "mnb_pipe.fit(X_train, y_train)\n",
    "dt_pipe.fit(X_train, y_train)\n",
    "rf_pipe.fit(X_train, y_train)\n",
    "et_pipe.fit(X_train, y_train)\n",
    "ada_pipe.fit(X_train, y_train)\n",
    "xgb_pipe.fit(X_train, y_train);"
   ]
  },
  {
   "cell_type": "code",
   "execution_count": 29,
   "id": "16682c80-f74b-48fe-8863-530546b6a1de",
   "metadata": {
    "tags": []
   },
   "outputs": [
    {
     "data": {
      "text/html": [
       "<style>#sk-container-id-2 {color: black;background-color: white;}#sk-container-id-2 pre{padding: 0;}#sk-container-id-2 div.sk-toggleable {background-color: white;}#sk-container-id-2 label.sk-toggleable__label {cursor: pointer;display: block;width: 100%;margin-bottom: 0;padding: 0.3em;box-sizing: border-box;text-align: center;}#sk-container-id-2 label.sk-toggleable__label-arrow:before {content: \"▸\";float: left;margin-right: 0.25em;color: #696969;}#sk-container-id-2 label.sk-toggleable__label-arrow:hover:before {color: black;}#sk-container-id-2 div.sk-estimator:hover label.sk-toggleable__label-arrow:before {color: black;}#sk-container-id-2 div.sk-toggleable__content {max-height: 0;max-width: 0;overflow: hidden;text-align: left;background-color: #f0f8ff;}#sk-container-id-2 div.sk-toggleable__content pre {margin: 0.2em;color: black;border-radius: 0.25em;background-color: #f0f8ff;}#sk-container-id-2 input.sk-toggleable__control:checked~div.sk-toggleable__content {max-height: 200px;max-width: 100%;overflow: auto;}#sk-container-id-2 input.sk-toggleable__control:checked~label.sk-toggleable__label-arrow:before {content: \"▾\";}#sk-container-id-2 div.sk-estimator input.sk-toggleable__control:checked~label.sk-toggleable__label {background-color: #d4ebff;}#sk-container-id-2 div.sk-label input.sk-toggleable__control:checked~label.sk-toggleable__label {background-color: #d4ebff;}#sk-container-id-2 input.sk-hidden--visually {border: 0;clip: rect(1px 1px 1px 1px);clip: rect(1px, 1px, 1px, 1px);height: 1px;margin: -1px;overflow: hidden;padding: 0;position: absolute;width: 1px;}#sk-container-id-2 div.sk-estimator {font-family: monospace;background-color: #f0f8ff;border: 1px dotted black;border-radius: 0.25em;box-sizing: border-box;margin-bottom: 0.5em;}#sk-container-id-2 div.sk-estimator:hover {background-color: #d4ebff;}#sk-container-id-2 div.sk-parallel-item::after {content: \"\";width: 100%;border-bottom: 1px solid gray;flex-grow: 1;}#sk-container-id-2 div.sk-label:hover label.sk-toggleable__label {background-color: #d4ebff;}#sk-container-id-2 div.sk-serial::before {content: \"\";position: absolute;border-left: 1px solid gray;box-sizing: border-box;top: 0;bottom: 0;left: 50%;z-index: 0;}#sk-container-id-2 div.sk-serial {display: flex;flex-direction: column;align-items: center;background-color: white;padding-right: 0.2em;padding-left: 0.2em;position: relative;}#sk-container-id-2 div.sk-item {position: relative;z-index: 1;}#sk-container-id-2 div.sk-parallel {display: flex;align-items: stretch;justify-content: center;background-color: white;position: relative;}#sk-container-id-2 div.sk-item::before, #sk-container-id-2 div.sk-parallel-item::before {content: \"\";position: absolute;border-left: 1px solid gray;box-sizing: border-box;top: 0;bottom: 0;left: 50%;z-index: -1;}#sk-container-id-2 div.sk-parallel-item {display: flex;flex-direction: column;z-index: 1;position: relative;background-color: white;}#sk-container-id-2 div.sk-parallel-item:first-child::after {align-self: flex-end;width: 50%;}#sk-container-id-2 div.sk-parallel-item:last-child::after {align-self: flex-start;width: 50%;}#sk-container-id-2 div.sk-parallel-item:only-child::after {width: 0;}#sk-container-id-2 div.sk-dashed-wrapped {border: 1px dashed gray;margin: 0 0.4em 0.5em 0.4em;box-sizing: border-box;padding-bottom: 0.4em;background-color: white;}#sk-container-id-2 div.sk-label label {font-family: monospace;font-weight: bold;display: inline-block;line-height: 1.2em;}#sk-container-id-2 div.sk-label-container {text-align: center;}#sk-container-id-2 div.sk-container {/* jupyter's `normalize.less` sets `[hidden] { display: none; }` but bootstrap.min.css set `[hidden] { display: none !important; }` so we also need the `!important` here to be able to override the default hidden behavior on the sphinx rendered scikit-learn.org. See: https://github.com/scikit-learn/scikit-learn/issues/21755 */display: inline-block !important;position: relative;}#sk-container-id-2 div.sk-text-repr-fallback {display: none;}</style><div id=\"sk-container-id-2\" class=\"sk-top-container\"><div class=\"sk-text-repr-fallback\"><pre>LogisticRegression(max_iter=1000)</pre><b>In a Jupyter environment, please rerun this cell to show the HTML representation or trust the notebook. <br />On GitHub, the HTML representation is unable to render, please try loading this page with nbviewer.org.</b></div><div class=\"sk-container\" hidden><div class=\"sk-item\"><div class=\"sk-estimator sk-toggleable\"><input class=\"sk-toggleable__control sk-hidden--visually\" id=\"sk-estimator-id-2\" type=\"checkbox\" checked><label for=\"sk-estimator-id-2\" class=\"sk-toggleable__label sk-toggleable__label-arrow\">LogisticRegression</label><div class=\"sk-toggleable__content\"><pre>LogisticRegression(max_iter=1000)</pre></div></div></div></div></div>"
      ],
      "text/plain": [
       "LogisticRegression(max_iter=1000)"
      ]
     },
     "execution_count": 29,
     "metadata": {},
     "output_type": "execute_result"
    }
   ],
   "source": [
    "logr.fit(X_pred_train, y_train)"
   ]
  },
  {
   "cell_type": "code",
   "execution_count": 30,
   "id": "1407802a-7f9f-4ea1-a968-19d7762268c3",
   "metadata": {
    "tags": []
   },
   "outputs": [],
   "source": [
    "X_pred_test = pd.DataFrame()\n",
    "X_pred_test['logr'] = logr_pipe.predict(X_test)\n",
    "X_pred_test['mnb'] = mnb_pipe.predict(X_test)\n",
    "X_pred_test['dt'] = dt_pipe.predict(X_test)\n",
    "X_pred_test['rf'] = rf_pipe.predict(X_test)\n",
    "X_pred_test['et'] = et_pipe.predict(X_test)\n",
    "X_pred_test['ada'] = ada_pipe.predict(X_test)\n",
    "X_pred_test['xgb'] = xgb_pipe.predict(X_test)"
   ]
  },
  {
   "cell_type": "code",
   "execution_count": 34,
   "id": "46d5ed00-a876-443d-81e6-b726ade9a414",
   "metadata": {
    "tags": []
   },
   "outputs": [
    {
     "name": "stdout",
     "output_type": "stream",
     "text": [
      "Baseline accuracy: 0.51\n",
      "Training accuracy: 0.95\n",
      "Test accuracy: 0.95\n",
      "Recall: 0.96\n",
      "Precision: 0.95\n",
      "F1 Score: 0.95\n"
     ]
    }
   ],
   "source": [
    "print(f\"Baseline accuracy: {round(y.value_counts(normalize=True).max(), 2)}\")\n",
    "print(f\"Training accuracy: {round(logr.score(X_pred_train, y_train), 2)}\")\n",
    "print(f\"Test accuracy: {round(logr.score(X_pred_test, y_test), 2)}\")\n",
    "print(f\"Recall: {round(recall_score(y_test, logr.predict(X_pred_test)), 2)}\")\n",
    "print(f\"Precision: {round(precision_score(y_test, logr.predict(X_pred_test)), 2)}\")\n",
    "print(f\"F1 Score: {round(f1_score(y_test, logr.predict(X_pred_test)), 2)}\")"
   ]
  },
  {
   "cell_type": "markdown",
   "id": "be557183-f032-4a66-aed2-567e735a0c48",
   "metadata": {},
   "source": [
    "After stacking and retraining our Logisitic Regression model on the predicitons of the full set of models, we end with a model that can classify submissions to the correct subreddit with 95% accuracy on both the training data and test data, while also achieving a complete reduction of variance. This model is expected to meet the needs of HFE and satisfy the goal of this project."
   ]
  }
 ],
 "metadata": {
  "kernelspec": {
   "display_name": "Python 3 (ipykernel)",
   "language": "python",
   "name": "python3"
  },
  "language_info": {
   "codemirror_mode": {
    "name": "ipython",
    "version": 3
   },
   "file_extension": ".py",
   "mimetype": "text/x-python",
   "name": "python",
   "nbconvert_exporter": "python",
   "pygments_lexer": "ipython3",
   "version": "3.10.7"
  },
  "toc-showtags": false
 },
 "nbformat": 4,
 "nbformat_minor": 5
}
