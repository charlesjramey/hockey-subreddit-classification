{
 "cells": [
  {
   "cell_type": "markdown",
   "id": "c25a6f6a-543b-4815-8630-6a2b39f5aae4",
   "metadata": {
    "tags": []
   },
   "source": [
    "# Project 3: Subreddit Classification with Pushshift API and NLP\n",
    "\n",
    "## Part IV - Conclusion and Recommendations\n",
    "\n",
    "Author: Charles Ramey\n",
    "\n",
    "Date: 04/02/2023\n",
    "\n",
    "---"
   ]
  },
  {
   "cell_type": "markdown",
   "id": "5af256f5-c502-4407-9f87-7b3097dc2e11",
   "metadata": {},
   "source": [
    "#### Notebook Links\n",
    "\n",
    "Part I - Project Intro & Data Cleaning\n",
    "- [`Part-1_setup-and-cleaning.ipynb`](../code/Part-1_setup-and-cleaning.ipynb)\n",
    "\n",
    "Part II - Exploratory Data Analysis (EDA)\n",
    "- [`Part-2_eda.ipynb`](../code/Part-2_eda.ipynb)\n",
    "\n",
    "Part III - Modeling\n",
    "- [`Part-3_modeling.ipynb`](../code/Part-3_modeling.ipynb)"
   ]
  },
  {
   "cell_type": "markdown",
   "id": "df383ea7-3fdb-4412-b8cc-d5ab67520351",
   "metadata": {},
   "source": [
    "### Contents\n",
    "\n",
    "- [Conclusion and Recommendations](#Conclusion-and-Recommendations)\n",
    "- [Sources](#Sources)"
   ]
  },
  {
   "cell_type": "markdown",
   "id": "7d040d18-020a-441a-8af1-e810b64d0bd4",
   "metadata": {},
   "source": [
    "## Conclusion and Recommendations"
   ]
  },
  {
   "cell_type": "markdown",
   "id": "eecab744-fde6-4418-85ec-354ec6cd53d7",
   "metadata": {},
   "source": [
    "The conclusion of this project is that the subreddit r/hockeyplayers would be best suited to support HFE's first Reddit marketing campaign. This subreddit primarily hosts content focused on non-professional hockey, where user submissions are typically seeking hockey recommendations and advice. Hockey equipment is a common discussion subject within r/hockeyplayers, making it an exceptional place to advertise HFE's low-cost, high-quality gear. While r/hockey is a larger forum for hockey discussions in general, the content focuses primarily on professional hockey, with little content regarding the equipment of non-professional hockey players. HFE can gain confidence in the language of its reddit marketing posts by testing them using the final model developed herein and know that the advertisement is targeting the correct audience.\n",
    "\n",
    "The subreddit r/hockeyplayers is a great place for HFE to begin its equipment marketing campaign on Reddit, however there are additional avenues for expansion and improvement if the initial strategy proves successful:\n",
    "- r/hockeygoalies: Goalies play a key role on every hockey team, yet they have some of the most expensive equipment which makes the position out of reach for many new hockey players. This subreddit could help HFE reach a demographic with a high demand for affordable hockey gear.\n",
    "- Youth hockey: Hockey is inaccessible for many young athletes due to the cost of equipment and the constant need to size up equipment as a child outgrows their current gear.\n",
    "- Alternative forums and social platforms: Reddit has a wide user base, but HFE can expand by applying the lessons learned from this project to future projects that investigate platforms such as Facebook, Twitter, or other hockey-centric forums."
   ]
  },
  {
   "cell_type": "markdown",
   "id": "c246d967-b0d8-4f66-a20b-59298547ad09",
   "metadata": {
    "tags": []
   },
   "source": [
    "## Sources\n",
    "\n",
    "1. [https://www.reddit.com/r/hockey/](https://www.reddit.com/r/hockey/)\n",
    "2. [https://www.reddit.com/r/hockeyplayers/](https://www.reddit.com/r/hockeyplayers/)\n",
    "3. [https://www.ibm.com/topics/natural-language-processing](https://www.ibm.com/topics/natural-language-processing)\n",
    "4. [https://medium.com/mcd-unison/using-pushshift-api-for-data-analysis-on-reddit-b08d339c48b8](https://medium.com/mcd-unison/using-pushshift-api-for-data-analysis-on-reddit-b08d339c48b8)\n",
    "5. [http://api.pushshift.io/redoc#operation/search_reddit_subreddits_reddit_search_subreddit_get](http://api.pushshift.io/redoc#operation/search_reddit_subreddits_reddit_search_subreddit_get)\n",
    "6. [https://www.epochconverter.com/](https://www.epochconverter.com/)\n",
    "7. [https://stackoverflow.com/questions/47423854/sklearn-adding-lemmatizer-to-countvectorizer](https://stackoverflow.com/questions/47423854/sklearn-adding-lemmatizer-to-countvectorizer)\n",
    "8. [https://pandas.pydata.org/docs/reference/index.html](https://pandas.pydata.org/docs/reference/index.html)\n",
    "9. [https://scikit-learn.org/stable/modules/classes.html](https://scikit-learn.org/stable/modules/classes.html)\n",
    "10. [https://matplotlib.org/stable/api/index.html](https://matplotlib.org/stable/api/index.html)\n",
    "11. [https://stackoverflow.com/questions](https://stackoverflow.com/questions)\n",
    "12. [https://xgboost.readthedocs.io/en/stable/python/python_api.html](https://xgboost.readthedocs.io/en/stable/python/python_api.html)"
   ]
  }
 ],
 "metadata": {
  "kernelspec": {
   "display_name": "Python 3 (ipykernel)",
   "language": "python",
   "name": "python3"
  },
  "language_info": {
   "codemirror_mode": {
    "name": "ipython",
    "version": 3
   },
   "file_extension": ".py",
   "mimetype": "text/x-python",
   "name": "python",
   "nbconvert_exporter": "python",
   "pygments_lexer": "ipython3",
   "version": "3.10.7"
  }
 },
 "nbformat": 4,
 "nbformat_minor": 5
}
